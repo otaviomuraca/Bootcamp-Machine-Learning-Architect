{
  "cells": [
    {
      "cell_type": "markdown",
      "id": "e93b9ea8",
      "metadata": {
        "id": "e93b9ea8"
      },
      "source": [
        "# Módulo 1: Fundamentos de Deep Learning"
      ]
    },
    {
      "cell_type": "markdown",
      "id": "09bc1096",
      "metadata": {
        "id": "09bc1096"
      },
      "source": [
        "# Bootcamp Analista de Machine Learning - XEP IGTI"
      ]
    },
    {
      "cell_type": "markdown",
      "id": "e0c28ca4",
      "metadata": {
        "id": "e0c28ca4"
      },
      "source": [
        " "
      ]
    },
    {
      "cell_type": "markdown",
      "id": "13a3c778",
      "metadata": {
        "id": "13a3c778"
      },
      "source": [
        "## Objetivo do Projeto"
      ]
    },
    {
      "cell_type": "markdown",
      "id": "4cdec7a4",
      "metadata": {
        "id": "4cdec7a4"
      },
      "source": [
        "Utilizar duas redes de de Machine Learning (VGG16 e Manual) para resolver o problema de classificação Fashion MNIST. "
      ]
    },
    {
      "cell_type": "markdown",
      "id": "53c212fd",
      "metadata": {
        "id": "53c212fd"
      },
      "source": [
        "## Instações"
      ]
    },
    {
      "cell_type": "code",
      "execution_count": null,
      "id": "7a4f5d4f",
      "metadata": {
        "id": "7a4f5d4f"
      },
      "outputs": [],
      "source": [
        "!pip3 install keras"
      ]
    },
    {
      "cell_type": "code",
      "execution_count": null,
      "id": "3525e73f",
      "metadata": {
        "id": "3525e73f"
      },
      "outputs": [],
      "source": [
        "!pip3 install tensorflow"
      ]
    },
    {
      "cell_type": "code",
      "execution_count": null,
      "id": "3cb2fc9c",
      "metadata": {
        "id": "3cb2fc9c"
      },
      "outputs": [],
      "source": [
        "!pip3 install np_utils"
      ]
    },
    {
      "cell_type": "markdown",
      "id": "99788bba",
      "metadata": {
        "id": "99788bba"
      },
      "source": [
        "## Importações"
      ]
    },
    {
      "cell_type": "code",
      "execution_count": 22,
      "id": "395a921a",
      "metadata": {
        "scrolled": true,
        "id": "395a921a"
      },
      "outputs": [],
      "source": [
        "import pandas as pd\n",
        "import numpy as np\n",
        "import seaborn as sns\n",
        "\n",
        "from matplotlib import pyplot as plt\n",
        "\n",
        "#Importações do Keras dataset\n",
        "from keras.datasets import fashion_mnist\n",
        "from keras.models import Sequential, Model\n",
        "from keras.layers import Dense, Dropout, Activation, Flatten\n",
        "from keras.utils.np_utils import to_categorical\n",
        "from keras.utils import np_utils\n",
        "from sklearn.metrics import accuracy_score, classification_report, precision_score, SCORERS\n",
        "\n",
        "\n",
        "#importações do modelo VGG16\n",
        "from keras.applications.vgg16 import VGG16\n",
        "\n",
        "from tensorflow.image import resize"
      ]
    },
    {
      "cell_type": "markdown",
      "id": "441e1827",
      "metadata": {
        "id": "441e1827"
      },
      "source": [
        "## Importando dadaset"
      ]
    },
    {
      "cell_type": "code",
      "execution_count": 5,
      "id": "2afd729d",
      "metadata": {
        "colab": {
          "base_uri": "https://localhost:8080/",
          "height": 0
        },
        "id": "2afd729d",
        "outputId": "7f422477-906a-4513-8f4d-49e69f237a29"
      },
      "outputs": [
        {
          "output_type": "stream",
          "name": "stdout",
          "text": [
            "Downloading data from https://storage.googleapis.com/tensorflow/tf-keras-datasets/train-labels-idx1-ubyte.gz\n",
            "29515/29515 [==============================] - 0s 0us/step\n",
            "Downloading data from https://storage.googleapis.com/tensorflow/tf-keras-datasets/train-images-idx3-ubyte.gz\n",
            "26421880/26421880 [==============================] - 3s 0us/step\n",
            "Downloading data from https://storage.googleapis.com/tensorflow/tf-keras-datasets/t10k-labels-idx1-ubyte.gz\n",
            "5148/5148 [==============================] - 0s 0us/step\n",
            "Downloading data from https://storage.googleapis.com/tensorflow/tf-keras-datasets/t10k-images-idx3-ubyte.gz\n",
            "4422102/4422102 [==============================] - 0s 0us/step\n"
          ]
        }
      ],
      "source": [
        "(X_train, y_train), (X_test, y_test) = fashion_mnist.load_data()"
      ]
    },
    {
      "cell_type": "code",
      "execution_count": 6,
      "id": "371fce71",
      "metadata": {
        "id": "371fce71"
      },
      "outputs": [],
      "source": [
        "SelectImg = X_test[4000]"
      ]
    },
    {
      "cell_type": "code",
      "execution_count": 7,
      "id": "4e31086f",
      "metadata": {
        "id": "4e31086f"
      },
      "outputs": [],
      "source": [
        "SelectImg = np.array(SelectImg, dtype='float')"
      ]
    },
    {
      "cell_type": "code",
      "execution_count": 8,
      "id": "8a6ff9e8",
      "metadata": {
        "id": "8a6ff9e8"
      },
      "outputs": [],
      "source": [
        "pixels = SelectImg.reshape(28,28)"
      ]
    },
    {
      "cell_type": "code",
      "execution_count": 9,
      "id": "fa25ef23",
      "metadata": {
        "colab": {
          "base_uri": "https://localhost:8080/",
          "height": 282
        },
        "id": "fa25ef23",
        "outputId": "4ea387c9-3aeb-472c-cb39-a5ac8c71de4f"
      },
      "outputs": [
        {
          "output_type": "display_data",
          "data": {
            "text/plain": [
              "<Figure size 432x288 with 1 Axes>"
            ],
            "image/png": "[encoded data removed]"
          },
          "metadata": {
            "needs_background": "light"
          }
        },
        {
          "output_type": "stream",
          "name": "stdout",
          "text": [
            "Classificação: 0\n"
          ]
        }
      ],
      "source": [
        "plt.imshow(SelectImg, cmap='gray')\n",
        "plt.show()\n",
        "\n",
        "print(f'Classificação: {y_test[4000]}')"
      ]
    },
    {
      "cell_type": "markdown",
      "id": "fb97f535",
      "metadata": {
        "id": "fb97f535"
      },
      "source": [
        "## VGG16"
      ]
    },
    {
      "cell_type": "code",
      "execution_count": 10,
      "id": "a45be021",
      "metadata": {
        "colab": {
          "base_uri": "https://localhost:8080/",
          "height": 0
        },
        "id": "a45be021",
        "outputId": "42847eef-d7f8-4f74-a4fe-9a44edf9d4e3"
      },
      "outputs": [
        {
          "output_type": "stream",
          "name": "stdout",
          "text": [
            "Model: \"vgg16\"\n",
            "_________________________________________________________________\n",
            " Layer (type)                Output Shape              Param #   \n",
            "=================================================================\n",
            " input_1 (InputLayer)        [(None, 32, 32, 3)]       0         \n",
            "                                                                 \n",
            " block1_conv1 (Conv2D)       (None, 32, 32, 64)        1792      \n",
            "                                                                 \n",
            " block1_conv2 (Conv2D)       (None, 32, 32, 64)        36928     \n",
            "                                                                 \n",
            " block1_pool (MaxPooling2D)  (None, 16, 16, 64)        0         \n",
            "                                                                 \n",
            " block2_conv1 (Conv2D)       (None, 16, 16, 128)       73856     \n",
            "                                                                 \n",
            " block2_conv2 (Conv2D)       (None, 16, 16, 128)       147584    \n",
            "                                                                 \n",
            " block2_pool (MaxPooling2D)  (None, 8, 8, 128)         0         \n",
            "                                                                 \n",
            " block3_conv1 (Conv2D)       (None, 8, 8, 256)         295168    \n",
            "                                                                 \n",
            " block3_conv2 (Conv2D)       (None, 8, 8, 256)         590080    \n",
            "                                                                 \n",
            " block3_conv3 (Conv2D)       (None, 8, 8, 256)         590080    \n",
            "                                                                 \n",
            " block3_pool (MaxPooling2D)  (None, 4, 4, 256)         0         \n",
            "                                                                 \n",
            " block4_conv1 (Conv2D)       (None, 4, 4, 512)         1180160   \n",
            "                                                                 \n",
            " block4_conv2 (Conv2D)       (None, 4, 4, 512)         2359808   \n",
            "                                                                 \n",
            " block4_conv3 (Conv2D)       (None, 4, 4, 512)         2359808   \n",
            "                                                                 \n",
            " block4_pool (MaxPooling2D)  (None, 2, 2, 512)         0         \n",
            "                                                                 \n",
            " block5_conv1 (Conv2D)       (None, 2, 2, 512)         2359808   \n",
            "                                                                 \n",
            " block5_conv2 (Conv2D)       (None, 2, 2, 512)         2359808   \n",
            "                                                                 \n",
            " block5_conv3 (Conv2D)       (None, 2, 2, 512)         2359808   \n",
            "                                                                 \n",
            " block5_pool (MaxPooling2D)  (None, 1, 1, 512)         0         \n",
            "                                                                 \n",
            " flatten (Flatten)           (None, 512)               0         \n",
            "                                                                 \n",
            " fc1 (Dense)                 (None, 4096)              2101248   \n",
            "                                                                 \n",
            " fc2 (Dense)                 (None, 4096)              16781312  \n",
            "                                                                 \n",
            " predictions (Dense)         (None, 10)                40970     \n",
            "                                                                 \n",
            "=================================================================\n",
            "Total params: 33,638,218\n",
            "Trainable params: 33,638,218\n",
            "Non-trainable params: 0\n",
            "_________________________________________________________________\n"
          ]
        }
      ],
      "source": [
        "#Aplicando o modelo VGG16 e redimensionando o tamanho da imagem\n",
        "ModeloVGG16 = VGG16(input_shape=(32,32,3), classes=10, weights=None)\n",
        "\n",
        "#Verificando parâmetros\n",
        "ModeloVGG16.summary()"
      ]
    },
    {
      "cell_type": "markdown",
      "id": "42fd6a9a",
      "metadata": {
        "id": "42fd6a9a"
      },
      "source": [
        "### Ajustando dataset"
      ]
    },
    {
      "cell_type": "code",
      "execution_count": 11,
      "id": "afdfa94d",
      "metadata": {
        "id": "afdfa94d"
      },
      "outputs": [],
      "source": [
        "#Ajustando o size do X\n",
        "X_trainCopy = np.expand_dims(X_train, axis= -1)\n",
        "X_trainCopy = np.repeat(X_trainCopy, 3, axis= -1)\n",
        "X_trainResize = resize(X_trainCopy,[32,32])\n",
        "\n",
        "pixelsCount = X_trainResize.shape[1] * X_trainResize.shape[2]"
      ]
    },
    {
      "cell_type": "code",
      "execution_count": 12,
      "id": "012bfdab",
      "metadata": {
        "colab": {
          "base_uri": "https://localhost:8080/",
          "height": 0
        },
        "id": "012bfdab",
        "outputId": "4ae970c8-761c-439b-ebeb-1caff51ebeef"
      },
      "outputs": [
        {
          "output_type": "execute_result",
          "data": {
            "text/plain": [
              "1024"
            ]
          },
          "metadata": {},
          "execution_count": 12
        }
      ],
      "source": [
        "pixelsCount"
      ]
    },
    {
      "cell_type": "code",
      "execution_count": 13,
      "id": "a42f7137",
      "metadata": {
        "colab": {
          "base_uri": "https://localhost:8080/",
          "height": 0
        },
        "id": "a42f7137",
        "outputId": "cceb6b17-a134-4555-8b61-26754e31b3af"
      },
      "outputs": [
        {
          "output_type": "execute_result",
          "data": {
            "text/plain": [
              "TensorShape([60000, 32, 32, 3])"
            ]
          },
          "metadata": {},
          "execution_count": 13
        }
      ],
      "source": [
        "X_trainResize.shape"
      ]
    },
    {
      "cell_type": "code",
      "execution_count": 14,
      "id": "63c99e76",
      "metadata": {
        "colab": {
          "base_uri": "https://localhost:8080/",
          "height": 0
        },
        "id": "63c99e76",
        "outputId": "b5b9769c-5eb0-4458-f914-4fbc19464474"
      },
      "outputs": [
        {
          "output_type": "execute_result",
          "data": {
            "text/plain": [
              "TensorShape([60000, 32, 32, 3])"
            ]
          },
          "metadata": {},
          "execution_count": 14
        }
      ],
      "source": [
        "X_trainResize.shape"
      ]
    },
    {
      "cell_type": "code",
      "execution_count": 15,
      "id": "ff749c6b",
      "metadata": {
        "id": "ff749c6b"
      },
      "outputs": [],
      "source": [
        "y_train_h = np_utils.to_categorical(y_train)\n",
        "y_test_h = np_utils.to_categorical(y_test)\n",
        "num_classes = y_test_h.shape[1]"
      ]
    },
    {
      "cell_type": "markdown",
      "id": "5d02ca35",
      "metadata": {
        "id": "5d02ca35"
      },
      "source": [
        "### Aplicando VVG16"
      ]
    },
    {
      "cell_type": "code",
      "execution_count": 36,
      "id": "3400172e",
      "metadata": {
        "colab": {
          "base_uri": "https://localhost:8080/",
          "height": 0
        },
        "id": "3400172e",
        "outputId": "0dfc172a-2a62-4424-af0a-860f646f9a5c"
      },
      "outputs": [
        {
          "output_type": "stream",
          "name": "stdout",
          "text": [
            "Epoch 1/10\n",
            "469/469 [==============================] - 41s 76ms/step - loss: 2.3027 - accuracy: 0.0969 - val_loss: 2.3026 - val_accuracy: 0.1000\n",
            "Epoch 2/10\n",
            "469/469 [==============================] - 35s 75ms/step - loss: 2.3027 - accuracy: 0.0976 - val_loss: 2.3026 - val_accuracy: 0.1000\n",
            "Epoch 3/10\n",
            "469/469 [==============================] - 37s 79ms/step - loss: 2.3027 - accuracy: 0.0979 - val_loss: 2.3026 - val_accuracy: 0.1000\n",
            "Epoch 4/10\n",
            "469/469 [==============================] - 35s 74ms/step - loss: 2.3027 - accuracy: 0.0986 - val_loss: 2.3026 - val_accuracy: 0.1000\n",
            "Epoch 5/10\n",
            "469/469 [==============================] - 37s 80ms/step - loss: 2.3027 - accuracy: 0.0998 - val_loss: 2.3026 - val_accuracy: 0.1000\n",
            "Epoch 6/10\n",
            "469/469 [==============================] - 35s 74ms/step - loss: 2.3027 - accuracy: 0.0980 - val_loss: 2.3026 - val_accuracy: 0.1000\n",
            "Epoch 7/10\n",
            "469/469 [==============================] - 37s 80ms/step - loss: 2.3027 - accuracy: 0.0988 - val_loss: 2.3026 - val_accuracy: 0.1000\n",
            "Epoch 8/10\n",
            "469/469 [==============================] - 35s 74ms/step - loss: 2.3027 - accuracy: 0.0978 - val_loss: 2.3026 - val_accuracy: 0.1000\n",
            "Epoch 9/10\n",
            "469/469 [==============================] - 37s 80ms/step - loss: 2.3027 - accuracy: 0.0969 - val_loss: 2.3026 - val_accuracy: 0.1000\n",
            "Epoch 10/10\n",
            "469/469 [==============================] - 35s 74ms/step - loss: 2.3027 - accuracy: 0.0975 - val_loss: 2.3026 - val_accuracy: 0.1000\n"
          ]
        }
      ],
      "source": [
        "ModeloVGG16.compile(loss='categorical_crossentropy', optimizer='adam', metrics=['accuracy'])\n",
        "history2 = ModeloVGG16.fit(X_trainResize/255, y_train_h, validation_data=(X_trainResize/255, y_train_h), epochs=10, verbose=1,batch_size=128)\n",
        "\n",
        "scores = ModeloVGG16.evaluate(X_trainResize, y_train_h, verbose=0) "
      ]
    },
    {
      "cell_type": "code",
      "source": [
        "print(\"%s: %.2f%%\" % (ModeloVGG16.metrics_names[1], scores[1]*100))"
      ],
      "metadata": {
        "colab": {
          "base_uri": "https://localhost:8080/",
          "height": 0
        },
        "id": "zu0cnlzMPhUi",
        "outputId": "d669a3b8-bfc7-4c9c-b9a7-5cdb1a9d0d4b"
      },
      "id": "zu0cnlzMPhUi",
      "execution_count": 25,
      "outputs": [
        {
          "output_type": "stream",
          "name": "stdout",
          "text": [
            "accuracy: 10.00%\n"
          ]
        }
      ]
    },
    {
      "cell_type": "markdown",
      "id": "40da97a4",
      "metadata": {
        "id": "40da97a4"
      },
      "source": [
        "## Modelo Manual"
      ]
    },
    {
      "cell_type": "code",
      "execution_count": 26,
      "id": "b2f7058c",
      "metadata": {
        "id": "b2f7058c"
      },
      "outputs": [],
      "source": [
        "(X_trainManual, y_trainManual), (X_testManual, y_testManual) = fashion_mnist.load_data()"
      ]
    },
    {
      "cell_type": "code",
      "execution_count": 27,
      "id": "190c2046",
      "metadata": {
        "colab": {
          "base_uri": "https://localhost:8080/",
          "height": 0
        },
        "id": "190c2046",
        "outputId": "de41ebdf-fa0f-4d95-fae0-79b42b2de230"
      },
      "outputs": [
        {
          "output_type": "execute_result",
          "data": {
            "text/plain": [
              "(60000, 28, 28)"
            ]
          },
          "metadata": {},
          "execution_count": 27
        }
      ],
      "source": [
        "X_trainManual.shape"
      ]
    },
    {
      "cell_type": "code",
      "execution_count": 28,
      "id": "c6a5e587",
      "metadata": {
        "colab": {
          "base_uri": "https://localhost:8080/",
          "height": 0
        },
        "id": "c6a5e587",
        "outputId": "e188f7bd-2163-418e-b785-61992824a63b"
      },
      "outputs": [
        {
          "output_type": "execute_result",
          "data": {
            "text/plain": [
              "784"
            ]
          },
          "metadata": {},
          "execution_count": 28
        }
      ],
      "source": [
        "pixelsManual = X_trainManual.shape[1] * X_trainManual.shape[2]\n",
        "pixelsManual"
      ]
    },
    {
      "cell_type": "code",
      "execution_count": 29,
      "id": "e4f7544d",
      "metadata": {
        "colab": {
          "base_uri": "https://localhost:8080/",
          "height": 0
        },
        "id": "e4f7544d",
        "outputId": "95c84e87-c508-455d-ac8d-222122c344d8"
      },
      "outputs": [
        {
          "output_type": "execute_result",
          "data": {
            "text/plain": [
              "(60000, 784)"
            ]
          },
          "metadata": {},
          "execution_count": 29
        }
      ],
      "source": [
        "X_trainM2 = X_trainManual.reshape(X_trainManual.shape[0], pixelsManual)\n",
        "X_trainM2.shape"
      ]
    },
    {
      "cell_type": "code",
      "execution_count": 30,
      "id": "bd3e34b1",
      "metadata": {
        "colab": {
          "base_uri": "https://localhost:8080/",
          "height": 0
        },
        "id": "bd3e34b1",
        "outputId": "8e332e6c-10d0-4a71-a495-deb7a6dadf5f"
      },
      "outputs": [
        {
          "output_type": "execute_result",
          "data": {
            "text/plain": [
              "(10000, 784)"
            ]
          },
          "metadata": {},
          "execution_count": 30
        }
      ],
      "source": [
        "X_trainM2 = X_testManual.reshape(X_testManual.shape[0], pixelsManual).astype(\"float32\")\n",
        "X_trainM2.shape"
      ]
    },
    {
      "cell_type": "code",
      "execution_count": 31,
      "id": "3f3dcbf8",
      "metadata": {
        "id": "3f3dcbf8"
      },
      "outputs": [],
      "source": [
        "y_trainManual2 = np_utils.to_categorical(y_trainManual)\n",
        "y_testManual2 = np_utils.to_categorical(y_testManual)"
      ]
    },
    {
      "cell_type": "code",
      "execution_count": 32,
      "id": "c4f1b2fb",
      "metadata": {
        "id": "c4f1b2fb"
      },
      "outputs": [],
      "source": [
        "X_trainM2 = X_trainM2/255\n",
        "X_testManual = X_trainM2/255"
      ]
    },
    {
      "cell_type": "code",
      "execution_count": 33,
      "id": "ada78fb3",
      "metadata": {
        "id": "ada78fb3"
      },
      "outputs": [],
      "source": [
        "model = Sequential()"
      ]
    },
    {
      "cell_type": "code",
      "execution_count": 34,
      "id": "36f3969b",
      "metadata": {
        "id": "36f3969b"
      },
      "outputs": [],
      "source": [
        "model.add(Dense(pixelsManual, input_dim=pixelsManual, kernel_initializer='normal', activation='relu'))\n",
        "model.add(Dense(1024, kernel_initializer='normal', activation='relu'))\n",
        "model.add(Dense(2048, kernel_initializer='normal', activation='relu'))\n",
        "model.add(Dense(2048, kernel_initializer='normal', activation='relu'))\n",
        "model.add(Dense(10, kernel_initializer='normal', activation='softmax'))"
      ]
    },
    {
      "cell_type": "code",
      "execution_count": 35,
      "id": "ea658f98",
      "metadata": {
        "colab": {
          "base_uri": "https://localhost:8080/",
          "height": 0
        },
        "id": "ea658f98",
        "outputId": "d554313a-1f93-4648-d8ec-a797b4f53579"
      },
      "outputs": [
        {
          "output_type": "stream",
          "name": "stdout",
          "text": [
            "Model: \"sequential\"\n",
            "_________________________________________________________________\n",
            " Layer (type)                Output Shape              Param #   \n",
            "=================================================================\n",
            " dense (Dense)               (None, 784)               615440    \n",
            "                                                                 \n",
            " dense_1 (Dense)             (None, 1024)              803840    \n",
            "                                                                 \n",
            " dense_2 (Dense)             (None, 2048)              2099200   \n",
            "                                                                 \n",
            " dense_3 (Dense)             (None, 2048)              4196352   \n",
            "                                                                 \n",
            " dense_4 (Dense)             (None, 10)                20490     \n",
            "                                                                 \n",
            "=================================================================\n",
            "Total params: 7,735,322\n",
            "Trainable params: 7,735,322\n",
            "Non-trainable params: 0\n",
            "_________________________________________________________________\n"
          ]
        }
      ],
      "source": [
        "model.summary()"
      ]
    },
    {
      "cell_type": "markdown",
      "id": "3540e59a",
      "metadata": {
        "id": "3540e59a"
      },
      "source": [
        "### - fim -"
      ]
    }
  ],
  "metadata": {
    "kernelspec": {
      "display_name": "Python 3 (ipykernel)",
      "language": "python",
      "name": "python3"
    },
    "language_info": {
      "codemirror_mode": {
        "name": "ipython",
        "version": 3
      },
      "file_extension": ".py",
      "mimetype": "text/x-python",
      "name": "python",
      "nbconvert_exporter": "python",
      "pygments_lexer": "ipython3",
      "version": "3.9.13"
    },
    "colab": {
      "provenance": []
    },
    "accelerator": "GPU",
    "gpuClass": "standard"
  },
  "nbformat": 4,
  "nbformat_minor": 5
}